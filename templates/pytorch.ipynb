{
 "cells": [
  {
   "cell_type": "code",
   "execution_count": 1,
   "metadata": {},
   "outputs": [],
   "source": [
    "import numpy as np\n",
    "from PIL import Image\n",
    "\n",
    "import torch\n",
    "import torch.nn as nn\n",
    "import torch.nn.functional as F\n",
    "import torch.optim as optim\n",
    "\n",
    "import torchvision\n",
    "import torchvision.transforms as transforms"
   ]
  },
  {
   "cell_type": "code",
   "execution_count": 2,
   "metadata": {},
   "outputs": [
    {
     "name": "stdout",
     "output_type": "stream",
     "text": [
      "NVIDIA GeForce RTX 3050 Ti Laptop GPU\n"
     ]
    }
   ],
   "source": [
    "device = torch.device(\"cuda:0\" if torch.cuda.is_available() else \"cpu\")\n",
    "print(torch.cuda.get_device_name(0))"
   ]
  },
  {
   "cell_type": "code",
   "execution_count": 3,
   "metadata": {},
   "outputs": [],
   "source": [
    "trans = transforms.Compose(\n",
    "    [\n",
    "        transforms.ToTensor(),\n",
    "        transforms.Normalize((0.5, 0.5, 0.5), (0.5, 0.5, 0.5)),\n",
    "    ]\n",
    ")"
   ]
  },
  {
   "cell_type": "code",
   "execution_count": 11,
   "metadata": {},
   "outputs": [
    {
     "name": "stdout",
     "output_type": "stream",
     "text": [
      "Files already downloaded and verified\n",
      "Files already downloaded and verified\n"
     ]
    }
   ],
   "source": [
    "train_data = torchvision.datasets.CIFAR10(\n",
    "    root=\"./data\", train=True, transform=trans, download=True\n",
    ")\n",
    "\n",
    "test_data = torchvision.datasets.CIFAR10(\n",
    "    root=\"./data\", train=False, transform=trans, download=True\n",
    ")\n",
    "\n",
    "train_loader = torch.utils.data.DataLoader(\n",
    "    train_data, batch_size=32, shuffle=True, num_workers=2\n",
    ")\n",
    "\n",
    "# Pre-load data and labels to device\n",
    "all_data, all_labels = [], []\n",
    "for data, labels in train_loader:\n",
    "    all_data.append(data.to(device))\n",
    "    all_labels.append(labels.to(device))\n",
    "\n",
    "# Combine all batches into a single tensor for data and labels\n",
    "all_data = torch.cat(all_data)\n",
    "all_labels = torch.cat(all_labels)\n",
    "\n",
    "preloaded_dataset = torch.utils.data.TensorDataset(all_data, all_labels)\n",
    "train_loader = torch.utils.data.DataLoader(preloaded_dataset, batch_size=32, shuffle=True)\n",
    "\n",
    "test_loader = torch.utils.data.DataLoader(\n",
    "    test_data, batch_size=32, shuffle=True, num_workers=2\n",
    ")"
   ]
  },
  {
   "cell_type": "code",
   "execution_count": 12,
   "metadata": {},
   "outputs": [],
   "source": [
    "img, label = train_data[0]"
   ]
  },
  {
   "cell_type": "code",
   "execution_count": 13,
   "metadata": {},
   "outputs": [
    {
     "data": {
      "text/plain": [
       "torch.Size([3, 32, 32])"
      ]
     },
     "execution_count": 13,
     "metadata": {},
     "output_type": "execute_result"
    }
   ],
   "source": [
    "img.size()"
   ]
  },
  {
   "cell_type": "code",
   "execution_count": 14,
   "metadata": {},
   "outputs": [],
   "source": [
    "class_names = [\n",
    "    \"plane\",\n",
    "    \"car\",\n",
    "    \"bird\",\n",
    "    \"cat\",\n",
    "    \"deer\",\n",
    "    \"dog\",\n",
    "    \"frog\",\n",
    "    \"horse\",\n",
    "    \"ship\",\n",
    "    \"truck\",\n",
    "]"
   ]
  },
  {
   "cell_type": "code",
   "execution_count": 15,
   "metadata": {},
   "outputs": [],
   "source": [
    "class NeuralNet(nn.Module):\n",
    "\n",
    "    def __init__(self) -> None:\n",
    "        super().__init__()\n",
    "\n",
    "        self.conv1 = nn.Conv2d(3, 12, 5)  # (12, 28, 28)\n",
    "        self.pool = nn.MaxPool2d(2)  # (12, 14, 14)\n",
    "        self.conv2 = nn.Conv2d(12, 24, 5)  # (24, 10, 10)\n",
    "        # max pool -> (24, 5, 5)\n",
    "        # flatten -> (24 * 5 * 5)\n",
    "        self.dense1 = nn.Linear(24 * 5 * 5, 120)\n",
    "        self.dense2 = nn.Linear(120, 84)\n",
    "        self.dense3 = nn.Linear(84, 10)\n",
    "\n",
    "    def forward(self, x):\n",
    "        x = self.pool(F.relu(self.conv1(x)))\n",
    "        x = self.pool(F.relu(self.conv2(x)))\n",
    "        x = torch.flatten(x, 1)\n",
    "        x = F.relu(self.dense1(x))\n",
    "        x = F.relu(self.dense2(x))\n",
    "        x = self.dense3(x)\n",
    "\n",
    "        return x"
   ]
  },
  {
   "cell_type": "code",
   "execution_count": 16,
   "metadata": {},
   "outputs": [],
   "source": [
    "net = NeuralNet()\n",
    "net = net.to(device)\n",
    "loss_func = nn.CrossEntropyLoss()\n",
    "optimizer = optim.SGD(net.parameters(), lr=0.001, momentum=0.9)"
   ]
  },
  {
   "cell_type": "code",
   "execution_count": 17,
   "metadata": {},
   "outputs": [
    {
     "name": "stdout",
     "output_type": "stream",
     "text": [
      "epoch 0\n",
      "Loss: 2.1858\n",
      "epoch 1\n",
      "Loss: 1.7166\n",
      "epoch 2\n",
      "Loss: 1.5242\n",
      "epoch 3\n",
      "Loss: 1.4039\n",
      "epoch 4\n",
      "Loss: 1.3139\n",
      "epoch 5\n",
      "Loss: 1.2327\n",
      "epoch 6\n",
      "Loss: 1.1623\n",
      "epoch 7\n",
      "Loss: 1.1000\n",
      "epoch 8\n",
      "Loss: 1.0419\n",
      "epoch 9\n",
      "Loss: 0.9903\n",
      "epoch 10\n",
      "Loss: 0.9438\n",
      "epoch 11\n",
      "Loss: 0.9083\n",
      "epoch 12\n",
      "Loss: 0.8680\n",
      "epoch 13\n",
      "Loss: 0.8327\n",
      "epoch 14\n",
      "Loss: 0.7999\n",
      "epoch 15\n",
      "Loss: 0.7687\n",
      "epoch 16\n",
      "Loss: 0.7425\n",
      "epoch 17\n",
      "Loss: 0.7155\n",
      "epoch 18\n",
      "Loss: 0.6867\n",
      "epoch 19\n",
      "Loss: 0.6635\n",
      "epoch 20\n",
      "Loss: 0.6418\n",
      "epoch 21\n",
      "Loss: 0.6175\n",
      "epoch 22\n",
      "Loss: 0.5963\n",
      "epoch 23\n",
      "Loss: 0.5751\n",
      "epoch 24\n",
      "Loss: 0.5529\n",
      "epoch 25\n",
      "Loss: 0.5327\n",
      "epoch 26\n",
      "Loss: 0.5129\n",
      "epoch 27\n",
      "Loss: 0.4973\n",
      "epoch 28\n",
      "Loss: 0.4724\n",
      "epoch 29\n",
      "Loss: 0.4550\n"
     ]
    }
   ],
   "source": [
    "for data, target in train_loader:\n",
    "    data = data.to(device)\n",
    "    target = target.to(device)\n",
    "\n",
    "for epoch in range(30):\n",
    "    print(f\"epoch {epoch}\")\n",
    "\n",
    "    running_loss = 0.0\n",
    "\n",
    "    for i, data in enumerate(train_loader):\n",
    "        inputs, labels = data\n",
    "        # inputs, labels = inputs.to(device), labels.to(device)\n",
    "\n",
    "        optimizer.zero_grad()\n",
    "\n",
    "        outputs = net(inputs)\n",
    "\n",
    "        loss = loss_func(outputs, labels)\n",
    "\n",
    "        loss.backward()\n",
    "        optimizer.step()\n",
    "        running_loss += loss.item()\n",
    "\n",
    "\n",
    "    print(f\"Loss: {running_loss / len(train_loader):.4f}\")"
   ]
  },
  {
   "cell_type": "code",
   "execution_count": 26,
   "metadata": {},
   "outputs": [],
   "source": [
    "torch.save(net.state_dict(), 'trained_net.pth')"
   ]
  },
  {
   "cell_type": "code",
   "execution_count": 27,
   "metadata": {},
   "outputs": [],
   "source": [
    "# net = NeuralNet()\n",
    "# net.load_state_dict(torch.load('trained_net.pth'))"
   ]
  },
  {
   "cell_type": "code",
   "execution_count": 31,
   "metadata": {},
   "outputs": [
    {
     "name": "stdout",
     "output_type": "stream",
     "text": [
      "68.95\n"
     ]
    }
   ],
   "source": [
    "correct = 0\n",
    "total = 0\n",
    "\n",
    "net.eval()\n",
    "\n",
    "with torch.no_grad():\n",
    "\tfor data in test_loader:\n",
    "\t\timg, lb = data\n",
    "\t\timg, lb = img.to(device), lb.to(device)\n",
    "\t\t\n",
    "\t\toutputs = net(img)\n",
    "\t\t_, pred = torch.max(outputs, 1)\n",
    "\t\ttotal += lb.size(0)\n",
    "\t\tcorrect += (pred == lb).sum().item()\n",
    "\n",
    "accuracy = 100 * correct / total\n",
    "\n",
    "print(accuracy)"
   ]
  },
  {
   "cell_type": "code",
   "execution_count": 32,
   "metadata": {},
   "outputs": [],
   "source": [
    "new_trans = transforms.Compose([\n",
    "    transforms.Resize((32, 32)),\n",
    "    transforms.ToTensor(),\n",
    "    transforms.Normalize((0.5, 0.5, 0.5), (0.5, 0.5, 0.5)),\n",
    "])"
   ]
  },
  {
   "cell_type": "code",
   "execution_count": 33,
   "metadata": {},
   "outputs": [],
   "source": [
    "def load_img(path):\n",
    "    img = Image.open(path)\n",
    "    img = new_trans(img)\n",
    "    img = img.unsqueeze(0) # turn into batch\n",
    "    return img\n",
    "\n",
    "paths = [\n",
    "    './dog.png', './plane.png'\n",
    "]\n",
    "\n",
    "imgs = [load_img(p) for p in paths]"
   ]
  },
  {
   "cell_type": "code",
   "execution_count": 36,
   "metadata": {},
   "outputs": [
    {
     "name": "stdout",
     "output_type": "stream",
     "text": [
      "bird\n",
      "plane\n"
     ]
    }
   ],
   "source": [
    "net.eval()\n",
    "\n",
    "with torch.no_grad():\n",
    "\tfor img in imgs:\n",
    "\t\toutputs = net(img.to(device))\n",
    "\t\t_, pred = torch.max(outputs, 1)\n",
    "\t\tprint(class_names[pred.item()])"
   ]
  },
  {
   "cell_type": "code",
   "execution_count": null,
   "metadata": {},
   "outputs": [],
   "source": []
  }
 ],
 "metadata": {
  "kernelspec": {
   "display_name": "Python 3",
   "language": "python",
   "name": "python3"
  },
  "language_info": {
   "codemirror_mode": {
    "name": "ipython",
    "version": 3
   },
   "file_extension": ".py",
   "mimetype": "text/x-python",
   "name": "python",
   "nbconvert_exporter": "python",
   "pygments_lexer": "ipython3",
   "version": "3.12.7"
  }
 },
 "nbformat": 4,
 "nbformat_minor": 2
}
