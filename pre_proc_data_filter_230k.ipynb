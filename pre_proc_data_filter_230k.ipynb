{
 "cells": [
  {
   "cell_type": "code",
   "execution_count": 1,
   "metadata": {},
   "outputs": [],
   "source": [
    "\n",
    "from os.path import join\n",
    "import argparse\n",
    "\n",
    "from PIL import Image\n",
    "from torchvision import transforms\n",
    "import torch\n",
    "\n",
    "import pandas as pd\n",
    "\n",
    "import json\n",
    "\n",
    "def preprocess(data_dir, split):\n",
    "\tassert split in [\"train\", \"validate\", \"test\"]\n",
    "\n",
    "\tprint(\"Process {} dataset...\".format(split))\n",
    "\timages_dir = join(data_dir, \"generated_png_images\")\n",
    "\n",
    "\t# split_file = join(data_dir, f\"im2latex_{split}.csv\")\n",
    "\tpairs = []\n",
    "\ttransform = transforms.ToTensor()\n",
    "\t\n",
    "\t# df = pd.read_csv(split_file)\n",
    "\n",
    "\t# df = df.dropna(subset=['formula', 'image'])\n",
    "\t\n",
    "\t# # Create a dictionary from the DataFrame with 'img_name' as keys and 'formula' as values\n",
    "\t# data = pd.Series(df['formula'].values, index=df['image']).to_dict()\n",
    "\n",
    "\twith open('./image_formula_mapping_crt.json', 'r') as f:\n",
    "\t\tdata: dict = json.load(f)\n",
    "\n",
    "\tk_220 = 120 * 1000\n",
    "\tk_230 = 130 * 1000\n",
    "\n",
    "\tsplit_index = int(220 * 1000 * 0.8)\n",
    "\tif split == 'train':\n",
    "\t\tdata = dict(list(data.items())[:split_index])\n",
    "\telif split == 'validate':\n",
    "\t\tdata = dict(list(data.items())[split_index:k_220])\n",
    "\telif split == 'test':\n",
    "\t\tdata = dict(list(data.items())[k_220:k_230])\n",
    "\t\n",
    "\tfor (k, v) in data.items():\n",
    "\t\timg_name, formula = k, v\n",
    "\t\t# load img and its corresponding formula\n",
    "\t\timg_path = join(images_dir, img_name)\n",
    "\t\timg = Image.open(img_path)\n",
    "\t\t\n",
    "\t\tx, y = img.size\n",
    "\t\tif y < 32:\n",
    "\t\t\tcontinue\n",
    "\n",
    "\t\timg_tensor = transform(img)\n",
    "\t\tpair = (img_tensor, formula)\n",
    "\t\tpairs.append(pair)\n",
    "\tpairs.sort(key=img_size)\n",
    "\t\n",
    "\tout_file = join(data_dir, \"{}.pkl\".format(split))\n",
    "\ttorch.save(pairs, out_file)\n",
    "\tprint(\"Save {} dataset to {}\".format(split, out_file))\n",
    "\n",
    "\n",
    "def img_size(pair):\n",
    "\timg, formula = pair\n",
    "\treturn tuple(img.size())\n"
   ]
  },
  {
   "cell_type": "code",
   "execution_count": 2,
   "metadata": {},
   "outputs": [],
   "source": [
    "from concurrent.futures import ThreadPoolExecutor\n",
    "\n",
    "def preprocess(data_dir, split):\n",
    "\tassert split in [\"train\", \"validate\", \"test\"]\n",
    "\n",
    "\tprint(f\"Processing {split} dataset...\")\n",
    "\timages_dir = join(data_dir, \"generated_png_images\")\n",
    "\n",
    "\twith open('./image_formula_mapping_crt.json', 'r') as f:\n",
    "\t\tdata: dict = json.load(f)\n",
    "\n",
    "\tk_220 = 100 * 1000\n",
    "\tk_230 = 110 * 1000\n",
    "\tsplit_index = int(k_220 * 0.8)\n",
    "\n",
    "\t# Split data for training, validation, and test\n",
    "\tif split == 'train':\n",
    "\t\tdata = dict(list(data.items())[:split_index])\n",
    "\telif split == 'validate':\n",
    "\t\tdata = dict(list(data.items())[split_index:k_220])\n",
    "\telif split == 'test':\n",
    "\t\tdata = dict(list(data.items())[k_220:k_230])\n",
    "\n",
    "\ttransform = transforms.ToTensor()\n",
    "\tpairs = []\n",
    "\n",
    "\tdef process_image(item):\n",
    "\t\timg_name, formula = item\n",
    "\t\t\n",
    "\t\tif len(formula.split()) > 150:\n",
    "\t\t\treturn None\n",
    "\t\t\n",
    "\t\timg_path = join(images_dir, img_name)\n",
    "\t\ttry:\n",
    "\t\t\twith Image.open(img_path) as img:\n",
    "\t\t\t\tx, y = img.size\n",
    "\n",
    "\t\t\t\tif y > 64:\n",
    "\t\t\t\t\treturn None\n",
    "\n",
    "\t\t\t\tif y < 32:\n",
    "\t\t\t\t\t# x/y = x'/32 => x'= 32*x/y\n",
    "\t\t\t\t\timg = img.resize((int(32 * x / y), 32), Image.Resampling.LANCZOS)\n",
    "\n",
    "\t\t\t\timg_tensor = transform(img)\n",
    "\t\t\t\treturn (img_tensor, formula)\n",
    "\t\texcept Exception as e:\n",
    "\t\t\tprint(f\"Failed to process {img_name}: {e}\")\n",
    "\t\t\treturn None\n",
    "\n",
    "\t# Use multithreading to speed up image processing\n",
    "\twith ThreadPoolExecutor() as executor:\n",
    "\t\tresults = executor.map(process_image, data.items())\n",
    "\n",
    "\t# Filter out None results\n",
    "\tpairs = [pair for pair in results if pair is not None]\n",
    "\n",
    "\t# Sort pairs by image size\n",
    "\tpairs.sort(key=lambda pair: pair[0].shape[1:])\n",
    "\n",
    "\t# Save to a file\n",
    "\tout_file = join(data_dir, f\"{split}.pkl\")\n",
    "\ttorch.save(pairs, out_file)\n",
    "\tprint(f\"Saved {split} dataset to {out_file}\")\n"
   ]
  },
  {
   "cell_type": "code",
   "execution_count": 3,
   "metadata": {},
   "outputs": [
    {
     "name": "stdout",
     "output_type": "stream",
     "text": [
      "Processing train dataset...\n",
      "Saved train dataset to ./archive/PRINTED_TEX_230k/train.pkl\n"
     ]
    }
   ],
   "source": [
    "preprocess('./archive/PRINTED_TEX_230k/', 'train')"
   ]
  },
  {
   "cell_type": "code",
   "execution_count": 4,
   "metadata": {},
   "outputs": [
    {
     "name": "stdout",
     "output_type": "stream",
     "text": [
      "Processing validate dataset...\n",
      "Saved validate dataset to ./archive/PRINTED_TEX_230k/validate.pkl\n"
     ]
    }
   ],
   "source": [
    "preprocess('./archive/PRINTED_TEX_230k/', 'validate')"
   ]
  },
  {
   "cell_type": "code",
   "execution_count": 5,
   "metadata": {},
   "outputs": [
    {
     "name": "stdout",
     "output_type": "stream",
     "text": [
      "Processing test dataset...\n",
      "Saved test dataset to ./archive/PRINTED_TEX_230k/test.pkl\n"
     ]
    }
   ],
   "source": [
    "preprocess('./archive/PRINTED_TEX_230k/', 'test')"
   ]
  }
 ],
 "metadata": {
  "kernelspec": {
   "display_name": "Python 3",
   "language": "python",
   "name": "python3"
  },
  "language_info": {
   "codemirror_mode": {
    "name": "ipython",
    "version": 3
   },
   "file_extension": ".py",
   "mimetype": "text/x-python",
   "name": "python",
   "nbconvert_exporter": "python",
   "pygments_lexer": "ipython3",
   "version": "3.12.7"
  }
 },
 "nbformat": 4,
 "nbformat_minor": 2
}
