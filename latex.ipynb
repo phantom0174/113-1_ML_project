{
 "cells": [
  {
   "cell_type": "code",
   "execution_count": 1,
   "metadata": {},
   "outputs": [],
   "source": [
    "import matplotlib.pyplot as plt\n",
    "from matplotlib import rcParams\n",
    "import string\n",
    "import random\n",
    "\n",
    "rcParams[\"text.usetex\"] = True"
   ]
  },
  {
   "cell_type": "code",
   "execution_count": 2,
   "metadata": {},
   "outputs": [
    {
     "name": "stdout",
     "output_type": "stream",
     "text": [
      "['a', 'b', 'c', 'd', 'e', 'f', 'g', 'h', 'i', 'j', 'k', 'l', 'm', 'n', 'o', 'p', 'q', 'r', 's', 't', 'u', 'v', 'w', 'x', 'y', 'z', '0', '1', '2', '3', '4', '5', '6', '7', '8', '9']\n"
     ]
    }
   ],
   "source": [
    "alphas = [c for c in string.ascii_lowercase]\n",
    "nums = [c for c in string.digits]\n",
    "\n",
    "tokens = [*alphas, *nums]\n",
    "\n",
    "print(tokens)\n",
    "\n",
    "encoding = {\n",
    "    'frac': 0,\n",
    "    'int': 1,\n",
    "    'sqrt': 2,\n",
    "    'sum': 3,\n",
    "}\n",
    "\n",
    "for i, t in enumerate(tokens):\n",
    "    encoding[t] = i + 4\n",
    "\n",
    "classes = [*encoding]"
   ]
  },
  {
   "cell_type": "code",
   "execution_count": 13,
   "metadata": {},
   "outputs": [
    {
     "name": "stdout",
     "output_type": "stream",
     "text": [
      "{'frac': 0, 'int': 1, 'sqrt': 2, 'sum': 3, 'a': 4, 'b': 5, 'c': 6, 'd': 7, 'e': 8, 'f': 9, 'g': 10, 'h': 11, 'i': 12, 'j': 13, 'k': 14, 'l': 15, 'm': 16, 'n': 17, 'o': 18, 'p': 19, 'q': 20, 'r': 21, 's': 22, 't': 23, 'u': 24, 'v': 25, 'w': 26, 'x': 27, 'y': 28, 'z': 29, '0': 30, '1': 31, '2': 32, '3': 33, '4': 34, '5': 35, '6': 36, '7': 37, '8': 38, '9': 39}\n",
      "['frac', 'int', 'sqrt', 'sum', 'a', 'b', 'c', 'd', 'e', 'f', 'g', 'h', 'i', 'j', 'k', 'l', 'm', 'n', 'o', 'p', 'q', 'r', 's', 't', 'u', 'v', 'w', 'x', 'y', 'z', '0', '1', '2', '3', '4', '5', '6', '7', '8', '9']\n"
     ]
    }
   ],
   "source": [
    "print(encoding)\n",
    "print(classes)"
   ]
  },
  {
   "cell_type": "code",
   "execution_count": 7,
   "metadata": {},
   "outputs": [],
   "source": [
    "# from chatgpt\n",
    "\n",
    "plt.rc(\"text\", usetex=True)"
   ]
  },
  {
   "cell_type": "code",
   "execution_count": 6,
   "metadata": {},
   "outputs": [],
   "source": [
    "from io import BytesIO\n",
    "import os"
   ]
  },
  {
   "cell_type": "code",
   "execution_count": 4,
   "metadata": {},
   "outputs": [],
   "source": [
    "def render_latex(formula, fontsize=30):\n",
    "\tfig = plt.figure(figsize=(1.5, 0.8))\n",
    "\tfig.text(0.5, 0.5, formula, fontsize=fontsize, ha=\"center\", va=\"center\")\n",
    "\tbuffer_ = BytesIO()\n",
    "\tfig.savefig(buffer_, dpi=100, transparent=False, format=\"png\", pad_inches=0.01)\n",
    "\tplt.close(fig)\n",
    "\treturn buffer_.getvalue()\n",
    "\n",
    "mode = \"test\" # data / test\n",
    "\n",
    "def gen_frac():\n",
    "\ttoken = random.sample(tokens, 2)\n",
    "\tformula = \"$\\\\\" + f\"frac{{{token[0]}}}{{{token[1]}}}$\"\n",
    "\n",
    "\timage_bytes = render_latex(formula)\n",
    "\t\n",
    "\timage_name = f'./{mode}/{encoding['frac']}/{i}.png'\n",
    "\twith open(image_name, 'wb') as image_file:\n",
    "\t\timage_file.write(image_bytes)\n",
    "\n",
    "def gen_sum():\n",
    "\ttoken = random.sample(tokens, 2)\n",
    "\tformula = fr\"$\\sum_{{{token[0]}}}^{{{token[1]}}}$\"\n",
    "\n",
    "\timage_bytes = render_latex(formula)\n",
    "\t\n",
    "\timage_name = f'./{mode}/{encoding['sum']}/{i}.png'\n",
    "\twith open(image_name, 'wb') as image_file:\n",
    "\t\timage_file.write(image_bytes)\n",
    "\n",
    "def gen_int():\n",
    "\ttoken = random.sample(tokens, 2)\n",
    "\ta, b = token\n",
    "\n",
    "\tformula = fr\"$\\int_{{{a}}}^{{{b}}}$\"\n",
    "\timage_bytes = render_latex(formula)\n",
    "\t\n",
    "\timage_name = f'./{mode}/{encoding['int']}/{i}.png'\n",
    "\twith open(image_name, 'wb') as image_file:\n",
    "\t\timage_file.write(image_bytes)\n",
    "\n",
    "def gen_sqrt():\n",
    "\ttoken = random.sample(tokens, 1)[0]\n",
    "\n",
    "\tformula = fr\"$\\sqrt{{{token}}}$\"\n",
    "\timage_bytes = render_latex(formula)\n",
    "\t\n",
    "\timage_name = f'./{mode}/{encoding['sqrt']}/{i}.png'\n",
    "\twith open(image_name, 'wb') as image_file:\n",
    "\t\timage_file.write(image_bytes)\n",
    "\n",
    "def gen_tokens():\n",
    "\ttoken = random.sample(tokens, 1)[0]\n",
    "\n",
    "\tformula = rf\"${{{token}}}$\"\n",
    "\timage_bytes = render_latex(formula, fontsize=random.randint(15, 30))\n",
    "\t\n",
    "\tdir = f'./{mode}/{encoding[token]}/'\n",
    "\tif not os.path.exists(dir):\n",
    "\t\tos.makedirs(dir)\n",
    "\n",
    "\timage_name = f'{dir}{i}.png'\n",
    "\twith open(image_name, 'wb+') as image_file:\n",
    "\t\timage_file.write(image_bytes)"
   ]
  },
  {
   "cell_type": "code",
   "execution_count": 24,
   "metadata": {},
   "outputs": [],
   "source": [
    "for i in range(1000):\n",
    "\tgen_tokens()"
   ]
  },
  {
   "cell_type": "markdown",
   "metadata": {},
   "source": [
    "testing"
   ]
  },
  {
   "cell_type": "code",
   "execution_count": 14,
   "metadata": {},
   "outputs": [],
   "source": [
    "for i in range(1):\n",
    "\ttoken = random.sample(tokens, 1)[0]\n",
    "\n",
    "\tformula = r\"$\\sqrt{a}$\"\n",
    "\timage_bytes = render_latex(formula, 30)\n",
    "\t\n",
    "\timage_name = f'./sqrt.png'\n",
    "\twith open(image_name, 'wb') as image_file:\n",
    "\t\timage_file.write(image_bytes)"
   ]
  }
 ],
 "metadata": {
  "kernelspec": {
   "display_name": "Python 3",
   "language": "python",
   "name": "python3"
  },
  "language_info": {
   "codemirror_mode": {
    "name": "ipython",
    "version": 3
   },
   "file_extension": ".py",
   "mimetype": "text/x-python",
   "name": "python",
   "nbconvert_exporter": "python",
   "pygments_lexer": "ipython3",
   "version": "3.12.7"
  }
 },
 "nbformat": 4,
 "nbformat_minor": 2
}
