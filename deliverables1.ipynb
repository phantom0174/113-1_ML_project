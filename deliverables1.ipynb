{
 "cells": [
  {
   "cell_type": "code",
   "execution_count": 1,
   "metadata": {},
   "outputs": [],
   "source": [
    "import numpy as np\n",
    "from PIL import Image\n",
    "\n",
    "import torch\n",
    "import torch.nn as nn\n",
    "import torch.nn.functional as F\n",
    "import torch.optim as optim\n",
    "\n",
    "import torchvision\n",
    "import torchvision.transforms as transforms"
   ]
  },
  {
   "cell_type": "code",
   "execution_count": 2,
   "metadata": {},
   "outputs": [
    {
     "name": "stdout",
     "output_type": "stream",
     "text": [
      "NVIDIA GeForce RTX 3050 Ti Laptop GPU\n"
     ]
    }
   ],
   "source": [
    "device = torch.device(\"cuda:0\" if torch.cuda.is_available() else \"cpu\")\n",
    "print(torch.cuda.get_device_name(0))"
   ]
  },
  {
   "cell_type": "code",
   "execution_count": 3,
   "metadata": {},
   "outputs": [],
   "source": [
    "trans = transforms.Compose(\n",
    "    [\n",
    "\t\ttransforms.Resize((80, 150)), # height, width\n",
    "        transforms.Grayscale(),\n",
    "        transforms.ToTensor(),\n",
    "        transforms.Normalize((0.5), (0.5)),\n",
    "    ]\n",
    ")"
   ]
  },
  {
   "cell_type": "code",
   "execution_count": 4,
   "metadata": {},
   "outputs": [],
   "source": [
    "train_data = torchvision.datasets.ImageFolder('./data/', transform=trans)\n",
    "test_data = torchvision.datasets.ImageFolder('./test/', transform=trans)\n",
    "\n",
    "train_loader = torch.utils.data.DataLoader(\n",
    "    train_data, batch_size=32, shuffle=True, num_workers=2\n",
    ")\n",
    "\n",
    "test_loader = torch.utils.data.DataLoader(\n",
    "    test_data, batch_size=32, shuffle=True, num_workers=2\n",
    ")"
   ]
  },
  {
   "cell_type": "code",
   "execution_count": 5,
   "metadata": {},
   "outputs": [
    {
     "name": "stdout",
     "output_type": "stream",
     "text": [
      "['0', '1', '10', '11', '12', '13', '14', '15', '16', '17', '18', '19', '2', '20', '21', '22', '23', '24', '25', '26', '27', '28', '29', '3', '30', '31', '32', '33', '34', '35', '36', '37', '38', '39', '4', '5', '6', '7', '8', '9']\n"
     ]
    }
   ],
   "source": [
    "print(train_data.classes)"
   ]
  },
  {
   "cell_type": "code",
   "execution_count": 6,
   "metadata": {},
   "outputs": [],
   "source": [
    "all_data, all_labels = [], []\n",
    "for data, labels in train_loader:\n",
    "    all_data.append(data.to(device))\n",
    "    all_labels.append(labels.to(device))"
   ]
  },
  {
   "cell_type": "code",
   "execution_count": 7,
   "metadata": {},
   "outputs": [],
   "source": [
    "# Combine all batches into a single tensor for data and labels\n",
    "all_data = torch.cat(all_data)\n",
    "all_labels = torch.cat(all_labels)\n",
    "\n",
    "preloaded_dataset = torch.utils.data.TensorDataset(all_data, all_labels)\n",
    "train_loader = torch.utils.data.DataLoader(preloaded_dataset, batch_size=32, shuffle=True)"
   ]
  },
  {
   "cell_type": "code",
   "execution_count": 8,
   "metadata": {},
   "outputs": [
    {
     "name": "stdout",
     "output_type": "stream",
     "text": [
      "torch.Size([1, 80, 150])\n"
     ]
    }
   ],
   "source": [
    "img, label = train_data[0]\n",
    "print(img.size())"
   ]
  },
  {
   "cell_type": "code",
   "execution_count": 9,
   "metadata": {},
   "outputs": [],
   "source": [
    "class NeuralNet(nn.Module):\n",
    "\n",
    "    def __init__(self) -> None:\n",
    "        super().__init__()\n",
    "\n",
    "        self.conv1 = nn.Conv2d(1, 36, 5)  # (36, 80 - 5 + 1, 150 - 5 + 1) = (36, 76, 146)\n",
    "        self.pool = nn.MaxPool2d(2)  # (36, 38, 73)\n",
    "        self.conv2 = nn.Conv2d(36, 64, 5)  # (64, 34, 69)\n",
    "        # max pool -> (64, 17, 34)\n",
    "        # flatten -> (64 * 17 * 34)\n",
    "        self.dense1 = nn.Linear(64 * 17 * 34, 64)\n",
    "        self.dense2 = nn.Linear(64, 40)\n",
    "\n",
    "    def forward(self, x):\n",
    "        x = self.pool(F.relu(self.conv1(x)))\n",
    "        x = self.pool(F.relu(self.conv2(x)))\n",
    "        x = torch.flatten(x, 1)\n",
    "        x = F.relu(self.dense1(x))\n",
    "        x = self.dense2(x)\n",
    "\n",
    "        return x"
   ]
  },
  {
   "cell_type": "code",
   "execution_count": 10,
   "metadata": {},
   "outputs": [],
   "source": [
    "net = NeuralNet()\n",
    "net = net.to(device)\n",
    "loss_func = nn.CrossEntropyLoss()\n",
    "optimizer = optim.SGD(net.parameters(), lr=0.001, momentum=0.9)"
   ]
  },
  {
   "cell_type": "code",
   "execution_count": 11,
   "metadata": {},
   "outputs": [
    {
     "name": "stdout",
     "output_type": "stream",
     "text": [
      "epoch 0\n",
      "Loss: 3.6917\n",
      "epoch 1\n",
      "Loss: 3.6782\n",
      "epoch 2\n",
      "Loss: 3.6713\n",
      "epoch 3\n",
      "Loss: 3.6555\n",
      "epoch 4\n",
      "Loss: 3.6421\n",
      "epoch 5\n",
      "Loss: 3.6249\n",
      "epoch 6\n",
      "Loss: 3.5997\n",
      "epoch 7\n",
      "Loss: 3.5652\n",
      "epoch 8\n",
      "Loss: 3.5077\n",
      "epoch 9\n",
      "Loss: 3.4166\n",
      "epoch 10\n",
      "Loss: 3.2661\n",
      "epoch 11\n",
      "Loss: 2.9934\n",
      "epoch 12\n",
      "Loss: 2.5394\n",
      "epoch 13\n",
      "Loss: 1.9417\n",
      "epoch 14\n",
      "Loss: 1.3388\n",
      "epoch 15\n",
      "Loss: 0.8955\n",
      "epoch 16\n",
      "Loss: 0.6315\n",
      "epoch 17\n",
      "Loss: 0.4409\n",
      "epoch 18\n",
      "Loss: 0.3495\n",
      "epoch 19\n",
      "Loss: 0.3206\n",
      "epoch 20\n",
      "Loss: 0.2440\n",
      "epoch 21\n",
      "Loss: 0.2243\n",
      "epoch 22\n",
      "Loss: 0.1537\n",
      "epoch 23\n",
      "Loss: 0.1247\n",
      "epoch 24\n",
      "Loss: 0.1014\n",
      "epoch 25\n",
      "Loss: 0.1102\n",
      "epoch 26\n",
      "Loss: 0.1059\n",
      "epoch 27\n",
      "Loss: 0.0782\n",
      "epoch 28\n",
      "Loss: 0.0908\n",
      "epoch 29\n",
      "Loss: 0.0788\n",
      "epoch 30\n",
      "Loss: 0.0560\n",
      "epoch 31\n",
      "Loss: 0.0633\n",
      "epoch 32\n",
      "Loss: 0.0491\n",
      "epoch 33\n",
      "Loss: 0.0463\n",
      "epoch 34\n",
      "Loss: 0.0437\n",
      "epoch 35\n",
      "Loss: 0.0419\n",
      "epoch 36\n",
      "Loss: 0.0512\n",
      "epoch 37\n",
      "Loss: 0.0654\n",
      "epoch 38\n",
      "Loss: 0.0438\n",
      "epoch 39\n",
      "Loss: 0.0403\n"
     ]
    }
   ],
   "source": [
    "for epoch in range(40):\n",
    "    print(f\"epoch {epoch}\")\n",
    "\n",
    "    running_loss = 0.0\n",
    "\n",
    "    for i, data in enumerate(train_loader):\n",
    "        inputs, labels = data\n",
    "        \n",
    "        optimizer.zero_grad()\n",
    "        outputs = net(inputs)\n",
    "        loss = loss_func(outputs, labels)\n",
    "\n",
    "        loss.backward()\n",
    "        optimizer.step()\n",
    "        running_loss += loss.item()\n",
    "\n",
    "\n",
    "    print(f\"Loss: {running_loss / len(train_loader):.4f}\")"
   ]
  },
  {
   "cell_type": "code",
   "execution_count": 12,
   "metadata": {},
   "outputs": [
    {
     "name": "stdout",
     "output_type": "stream",
     "text": [
      "86.57407407407408\n"
     ]
    }
   ],
   "source": [
    "correct = 0\n",
    "total = 0\n",
    "\n",
    "net.eval()\n",
    "\n",
    "with torch.no_grad():\n",
    "\tfor data in test_loader:\n",
    "\t\timg, lb = data\n",
    "\t\timg, lb = img.to(device), lb.to(device)\n",
    "\t\t\n",
    "\t\toutputs = net(img)\n",
    "\t\t_, pred = torch.max(outputs, 1)\n",
    "\t\ttotal += lb.size(0)\n",
    "\t\tcorrect += (pred == lb).sum().item()\n",
    "\n",
    "accuracy = 100 * correct / total\n",
    "\n",
    "print(accuracy)"
   ]
  },
  {
   "cell_type": "code",
   "execution_count": 13,
   "metadata": {},
   "outputs": [],
   "source": [
    "torch.save(net.state_dict(), 'deliverables1.pth')"
   ]
  },
  {
   "cell_type": "code",
   "execution_count": 14,
   "metadata": {},
   "outputs": [
    {
     "name": "stdout",
     "output_type": "stream",
     "text": [
      "{'frac': 0, 'int': 1, 'sqrt': 2, 'sum': 3, 'a': 4, 'b': 5, 'c': 6, 'd': 7, 'e': 8, 'f': 9, 'g': 10, 'h': 11, 'i': 12, 'j': 13, 'k': 14, 'l': 15, 'm': 16, 'n': 17, 'o': 18, 'p': 19, 'q': 20, 'r': 21, 's': 22, 't': 23, 'u': 24, 'v': 25, 'w': 26, 'x': 27, 'y': 28, 'z': 29, '0': 30, '1': 31, '2': 32, '3': 33, '4': 34, '5': 35, '6': 36, '7': 37, '8': 38, '9': 39}\n",
      "['frac', 'int', 'sqrt', 'sum', 'a', 'b', 'c', 'd', 'e', 'f', 'g', 'h', 'i', 'j', 'k', 'l', 'm', 'n', 'o', 'p', 'q', 'r', 's', 't', 'u', 'v', 'w', 'x', 'y', 'z', '0', '1', '2', '3', '4', '5', '6', '7', '8', '9']\n"
     ]
    }
   ],
   "source": [
    "import string\n",
    "\n",
    "alphas = [c for c in string.ascii_lowercase]\n",
    "nums = [c for c in string.digits]\n",
    "\n",
    "tokens = [*alphas, *nums]\n",
    "\n",
    "encoding = {\n",
    "    'frac': 0,\n",
    "    'int': 1,\n",
    "    'sqrt': 2,\n",
    "    'sum': 3,\n",
    "}\n",
    "\n",
    "for i, t in enumerate(tokens):\n",
    "    encoding[t] = i + 4\n",
    "\n",
    "classes = [*encoding]\n",
    "\n",
    "print(encoding)\n",
    "print(classes)"
   ]
  },
  {
   "cell_type": "code",
   "execution_count": 24,
   "metadata": {},
   "outputs": [],
   "source": [
    "import os\n",
    "\n",
    "def load_img(path):\n",
    "    img = Image.open(path)\n",
    "    img = trans(img)\n",
    "    img = img.unsqueeze(0) # turn into batch\n",
    "    return img\n",
    "\n",
    "imgs = []\n",
    "# imgs = [load_img(p) for p in paths]\n",
    "\n",
    "for i in range(0, 40):\n",
    "    path = f'./test/{i}/'\n",
    "    filename = os.listdir(path)[0]\n",
    "    imgs.append(load_img(f'{path}{filename}'))\n",
    "\n",
    "imgs.append(load_img('./sqrt.png'))"
   ]
  },
  {
   "cell_type": "code",
   "execution_count": 25,
   "metadata": {},
   "outputs": [
    {
     "name": "stdout",
     "output_type": "stream",
     "text": [
      "frac\n",
      "int\n",
      "sqrt\n",
      "sum\n",
      "a\n",
      "s\n",
      "e\n",
      "d\n",
      "e\n",
      "i\n",
      "g\n",
      "h\n",
      "i\n",
      "j\n",
      "k\n",
      "l\n",
      "m\n",
      "n\n",
      "s\n",
      "p\n",
      "g\n",
      "r\n",
      "s\n",
      "t\n",
      "u\n",
      "v\n",
      "w\n",
      "x\n",
      "y\n",
      "z\n",
      "8\n",
      "1\n",
      "2\n",
      "3\n",
      "4\n",
      "5\n",
      "s\n",
      "7\n",
      "8\n",
      "2\n",
      "sqrt\n"
     ]
    }
   ],
   "source": [
    "net.eval()\n",
    "\n",
    "with torch.no_grad():\n",
    "\tfor i, img in enumerate(imgs):\n",
    "\t\toutputs = net(img.to(device))\n",
    "\t\t_, pred = torch.max(outputs, 1)\n",
    "\n",
    "\t\tpred = train_data.classes[pred.item()]\n",
    "\n",
    "\t\tprint(f\"{classes[int(pred)]}\")"
   ]
  },
  {
   "cell_type": "code",
   "execution_count": null,
   "metadata": {},
   "outputs": [],
   "source": []
  }
 ],
 "metadata": {
  "kernelspec": {
   "display_name": "Python 3",
   "language": "python",
   "name": "python3"
  },
  "language_info": {
   "codemirror_mode": {
    "name": "ipython",
    "version": 3
   },
   "file_extension": ".py",
   "mimetype": "text/x-python",
   "name": "python",
   "nbconvert_exporter": "python",
   "pygments_lexer": "ipython3",
   "version": "3.12.7"
  }
 },
 "nbformat": 4,
 "nbformat_minor": 2
}
