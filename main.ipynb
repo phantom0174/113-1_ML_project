{
 "cells": [
  {
   "cell_type": "code",
   "execution_count": 1,
   "metadata": {},
   "outputs": [],
   "source": [
    "import numpy as np\n",
    "import pandas as pd\n",
    "import matplotlib.pyplot as plt\n",
    "import tensorflow as tf\n",
    "\n",
    "from tensorflow import keras\n",
    "from keras import layers\n",
    "\n",
    "import string\n",
    "from io import StringIO, BytesIO\n",
    "import os"
   ]
  },
  {
   "cell_type": "code",
   "execution_count": 1,
   "metadata": {},
   "outputs": [],
   "source": [
    "from matplotlib import rcParams\n",
    "\n",
    "rcParams[\"text.usetex\"] = True"
   ]
  },
  {
   "cell_type": "code",
   "execution_count": 4,
   "metadata": {},
   "outputs": [],
   "source": [
    "# from paper, but too small (see test.png & jpg)\n",
    "\n",
    "import matplotlib.pyplot as plt\n",
    "from io import BytesIO\n",
    "\n",
    "def render_latex(formula, fontsize=10, dpi=300, format_=\"svg\"):\n",
    "    fig = plt.figure(figsize=(0.3, 0.25))\n",
    "    fig.text(0.05, 0.35, \"${}$\".format(formula), fontsize=fontsize)\n",
    "    buffer_ = BytesIO()  # Use BytesIO for binary data\n",
    "    fig.savefig(\n",
    "        buffer_, dpi=dpi, format=format_, pad_inches=0.0\n",
    "    )  # Remove transparent=True for JPG\n",
    "    plt.close(fig)\n",
    "    buffer_.seek(0)  # Move the cursor to the start of the buffer\n",
    "    return buffer_.getvalue()\n",
    "\n",
    "\n",
    "expression = r\"$\\frac{a}{b}$\"\n",
    "\n",
    "# Change format to JPG\n",
    "image_bytes = render_latex(expression, fontsize=5, dpi=200, format_=\"jpg\")\n",
    "image_name = \"./test.jpg\"\n",
    "with open(image_name, \"wb\") as image_file:  # Open file in binary write mode\n",
    "    image_file.write(image_bytes)"
   ]
  },
  {
   "cell_type": "code",
   "execution_count": 16,
   "metadata": {},
   "outputs": [],
   "source": [
    "# from chatgpt\n",
    "\n",
    "import matplotlib.pyplot as plt\n",
    "\n",
    "plt.rc(\"text\", usetex=True)\n",
    "plt.figure(figsize=(1.5, 0.8))\n",
    "plt.text(0.5, 0.5, r\"$\\frac{aa}{bb} - \\int_{0}^{\\infty}\\frac{dx}{x^2+1}$\", fontsize=30, ha=\"center\", va=\"center\")\n",
    "plt.axis(\"off\")\n",
    "plt.savefig(\n",
    "    \"latex_expression.png\", format=\"png\", dpi=100, bbox_inches=\"tight\", pad_inches=0.1\n",
    ")\n",
    "plt.close()"
   ]
  }
 ],
 "metadata": {
  "kernelspec": {
   "display_name": "Python 3",
   "language": "python",
   "name": "python3"
  },
  "language_info": {
   "codemirror_mode": {
    "name": "ipython",
    "version": 3
   },
   "file_extension": ".py",
   "mimetype": "text/x-python",
   "name": "python",
   "nbconvert_exporter": "python",
   "pygments_lexer": "ipython3",
   "version": "3.12.6"
  }
 },
 "nbformat": 4,
 "nbformat_minor": 2
}
